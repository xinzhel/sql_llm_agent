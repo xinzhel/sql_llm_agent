{
 "cells": [
  {
   "cell_type": "code",
   "execution_count": 35,
   "metadata": {},
   "outputs": [
    {
     "name": "stdout",
     "output_type": "stream",
     "text": [
      "0.0.323\n"
     ]
    }
   ],
   "source": [
    "import openai\n",
    "import os\n",
    "import json\n",
    "import langchain\n",
    "print(langchain.__version__)\n",
    "from langchain.prompts import PromptTemplate\n"
   ]
  },
  {
   "cell_type": "code",
   "execution_count": 37,
   "metadata": {},
   "outputs": [
    {
     "name": "stdout",
     "output_type": "stream",
     "text": [
      "Select from the available linguistic constraints: short, long, interrogative, directives, formal, casual\n"
     ]
    }
   ],
   "source": [
    "##### Prompts #####\n",
    "\n",
    "# load available linguistic_constraints \n",
    "with open(\"linguistic_constraints.json\", \"r\") as f:\n",
    "    constraints = json.load(f)\n",
    "print(\"Select from the available linguistic constraints:\", \", \".join(constraints.keys()))\n",
    "\n",
    "task_description_ptt = \"\"\"Convert the given SQL query with placeholders into human understandable text. Each placeholder is a combination of table and column names, formatted as \"[Table.Column]\", like \"[User.Name]\". \n",
    "\n",
    "The generation step should:\n",
    "* Keep the original placeholders from the SQL queries intact.\n",
    "* Create text that can be comprehended by people who have no knowledge of relational databases.\n",
    "{short_or_long}{interrogative_or_directives}\n",
    "* Generate three translations of text that are diverse in phrasing and syntax, each in a separate line \n",
    "* Not include any other text in your response.\n",
    "\"\"\"\n",
    "list_item_prefix = \"\\n* \"\n",
    "task_description_pt = PromptTemplate(input_variables=['short_or_long', 'interrogative_or_directives'], template=task_description_ptt)\n"
   ]
  },
  {
   "cell_type": "code",
   "execution_count": 7,
   "metadata": {},
   "outputs": [
    {
     "name": "stdout",
     "output_type": "stream",
     "text": [
      "Number of templates for each table:\n",
      "Project 7\n",
      "Capability 2\n",
      "Employee 12\n",
      "Company 6\n",
      "Total number of templates:  27\n"
     ]
    }
   ],
   "source": [
    "from utils import read_template_from_txt_files\n",
    "all_templates = read_template_from_txt_files()"
   ]
  },
  {
   "cell_type": "code",
   "execution_count": 29,
   "metadata": {},
   "outputs": [],
   "source": [
    "def generate(sys_msg, usr_msg, model_name = \"gpt4-short\"):\n",
    "\n",
    "    response = openai.ChatCompletion.create(\n",
    "        model=model_name,\n",
    "        deployment_id=model_name,\n",
    "        messages=[{\"role\": \"system\", \"content\": sys_msg}, \n",
    "               {\"role\": \"user\", \"content\": usr_msg}],\n",
    "        temperature=1\n",
    "    )\n",
    "    return response\n",
    "\n",
    "def generate_texts(table_name, all_templates, task_description_prompt):\n",
    "    \"\"\" \n",
    "    Args:\n",
    "    task_description_prompt: the prompt for the task description used for system message\n",
    "    \"\"\"\n",
    "    results = {table_name: None for table_name in all_templates.keys()}\n",
    "    for table_name, sql_templates in all_templates.items():\n",
    "        texts_for_templates = {}\n",
    "        for i, sql_template in enumerate(sql_templates):\n",
    "            response = generate(task_description_prompt, sql_template)\n",
    "            texts_for_templates[sql_template] = [x for x in response.choices[0].message.content.split(\"\\n\") if x]\n",
    "            print(f\"table: {table_name}, template: {i}\")\n",
    "        results[table_name] = texts_for_templates\n",
    "    # results are stored in a dictionary with the following structure: \n",
    "    # { table1: {\"sql_template1\": [text1, text2], \n",
    "    #            \"sql_template2\": [text1, text2]}, \n",
    "    #  {table2: {\"sql_template1\": [text1, text2], \n",
    "    #             \"sql_template2\": [text1, text2}, \n",
    "    # ...\n",
    "    # }\n",
    "        \n",
    "    return results"
   ]
  },
  {
   "cell_type": "code",
   "execution_count": 30,
   "metadata": {},
   "outputs": [
    {
     "name": "stdout",
     "output_type": "stream",
     "text": [
      "table: Project, template: 0\n",
      "table: Project, template: 1\n",
      "table: Project, template: 2\n",
      "table: Project, template: 3\n",
      "table: Project, template: 4\n",
      "table: Project, template: 5\n",
      "table: Project, template: 6\n",
      "table: Capability, template: 0\n",
      "table: Capability, template: 1\n",
      "table: Employee, template: 0\n",
      "table: Employee, template: 1\n",
      "table: Employee, template: 2\n",
      "table: Employee, template: 3\n",
      "table: Employee, template: 4\n",
      "table: Employee, template: 5\n",
      "table: Employee, template: 6\n",
      "table: Employee, template: 7\n",
      "table: Employee, template: 8\n",
      "table: Employee, template: 9\n",
      "table: Employee, template: 10\n",
      "table: Employee, template: 11\n",
      "table: Company, template: 0\n",
      "table: Company, template: 1\n",
      "table: Company, template: 2\n",
      "table: Company, template: 3\n",
      "table: Company, template: 4\n",
      "table: Company, template: 5\n"
     ]
    }
   ],
   "source": [
    "task_description_prompt = task_description_pt.format(short_or_long=list_item_prefix+ constraints['long'], interrogative_or_directives=\"\")\n",
    "results = generate_texts(table_name, all_templates, task_description_prompt)\n",
    "# save results to json file\n",
    "import json\n",
    "with open('templates/text/long_for_each_table.json', 'w') as fp:\n",
    "    json.dump(results, fp)"
   ]
  },
  {
   "cell_type": "code",
   "execution_count": 31,
   "metadata": {},
   "outputs": [],
   "source": [
    "# read results from json file\n",
    "with open('templates/text/short_for_each_table.json', 'r') as fp:\n",
    "    short_results = json.load(fp)\n",
    "with open('templates/text/long_for_each_table.json', 'r') as fp:\n",
    "    long_results = json.load(fp)\n",
    "    "
   ]
  },
  {
   "cell_type": "code",
   "execution_count": 33,
   "metadata": {},
   "outputs": [
    {
     "name": "stdout",
     "output_type": "stream",
     "text": [
      "The number of generated texts for Project:  21\n",
      "\n",
      "\n",
      "The number of generated texts for Capability:  6\n",
      "\n",
      "\n",
      "The number of generated texts for Employee:  36\n",
      "\n",
      "\n",
      "The number of generated texts for Company:  18\n",
      "\n",
      "\n",
      "The total number of generated texts: 81\n"
     ]
    }
   ],
   "source": [
    "def print_stat(results):\n",
    "    # results:  {table_name: {\"sql_template\": [text1, text2], ...}, ...}\n",
    "    total = 0\n",
    "    for table_name, sql_templates in results.items():\n",
    "        num_of_queries = 0\n",
    "        for sql_template, texts in sql_templates.items():\n",
    "            # print(f\"table: {table_name}, template: {sql_template}\")\n",
    "            num_of_queries += len(texts)\n",
    "        print(f\"The number of generated texts for {table_name}: \", num_of_queries)\n",
    "        # print(texts)\n",
    "        print(\"\\n\")\n",
    "        total += num_of_queries\n",
    "    print(f\"The total number of generated texts: {total}\")\n",
    "\n",
    "print_stat(short_results)"
   ]
  },
  {
   "cell_type": "code",
   "execution_count": null,
   "metadata": {},
   "outputs": [],
   "source": []
  }
 ],
 "metadata": {
  "kernelspec": {
   "display_name": "langchain",
   "language": "python",
   "name": "python3"
  },
  "language_info": {
   "codemirror_mode": {
    "name": "ipython",
    "version": 3
   },
   "file_extension": ".py",
   "mimetype": "text/x-python",
   "name": "python",
   "nbconvert_exporter": "python",
   "pygments_lexer": "ipython3",
   "version": "3.11.4"
  }
 },
 "nbformat": 4,
 "nbformat_minor": 2
}
